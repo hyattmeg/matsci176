{
  "nbformat": 4,
  "nbformat_minor": 0,
  "metadata": {
    "colab": {
      "provenance": []
    },
    "kernelspec": {
      "name": "python3",
      "display_name": "Python 3"
    },
    "language_info": {
      "name": "python"
    }
  },
  "cells": [
    {
      "cell_type": "markdown",
      "source": [
        "# Install/import packages"
      ],
      "metadata": {
        "id": "RPomeBBVE7xG"
      }
    },
    {
      "cell_type": "code",
      "execution_count": null,
      "metadata": {
        "id": "2xV0JfDGAhNh"
      },
      "outputs": [],
      "source": [
        "# install necessary packages\n",
        "!pip install pymatgen\n",
        "!pip install mp_api"
      ]
    },
    {
      "cell_type": "code",
      "source": [
        "# import necessary packages\n",
        "import pymatgen\n",
        "from pymatgen.analysis.local_env import CrystalNN\n",
        "from pymatgen.core.periodic_table import Element\n",
        "from tqdm import tqdm\n",
        "import numpy as np\n",
        "import pandas as pd\n",
        "import matplotlib.pyplot as plt\n",
        "from sklearn import svm\n",
        "from sklearn.linear_model import LogisticRegression\n",
        "from sklearn.metrics import confusion_matrix\n",
        "from sklearn.model_selection import train_test_split\n",
        "from mp_api.client import MPRester\n",
        "from pymatgen.core import Structure\n",
        "import numpy as np\n",
        "import pandas as pd"
      ],
      "metadata": {
        "id": "hEzXcnhnAvKR"
      },
      "execution_count": null,
      "outputs": []
    },
    {
      "cell_type": "markdown",
      "source": [
        "# Define API key and structural descriptors"
      ],
      "metadata": {
        "id": "KSEXfkbeMrdQ"
      }
    },
    {
      "cell_type": "code",
      "source": [
        "# Define API key for data extraction from the MPD\n",
        "API_KEY = \"INSERT YOUR API KEY HERE\""
      ],
      "metadata": {
        "id": "XnLT3h_5A3la"
      },
      "execution_count": null,
      "outputs": []
    },
    {
      "cell_type": "code",
      "source": [
        "'''\n",
        "Compute 5 structural descriptors including the following:\n",
        "1. Lithium-Lithium Bonding (LLB)\n",
        "2. Sublattice Bond Ionicity (SBI)\n",
        "3. Anion Framework Coordination (AFC)\n",
        "4. Li-Anion Separation Distance (LASD)\n",
        "5. Li-Li Separation Distance (LLSD)\n",
        "'''\n",
        "\n",
        "def compute_descriptors(structure):\n",
        "\n",
        "    results = {}\n",
        "\n",
        "    # Initialize neighbor analysis tool\n",
        "    cnn = CrystalNN()\n",
        "\n",
        "    # Get Li sites\n",
        "    li_sites = [site for site in structure if site.species_string == \"Li\"]\n",
        "\n",
        "    # 1. Li-Li Bond Count (LLB)\n",
        "    li_bonds = 0\n",
        "    for li in li_sites:\n",
        "        neighbors = cnn.get_nn_info(structure, structure.index(li))\n",
        "        li_neighbors = [n for n in neighbors if n[\"site\"].species_string == \"Li\"]\n",
        "        li_bonds += len(li_neighbors)\n",
        "    results[\"LLB\"] = li_bonds / len(li_sites) if li_sites else 0\n",
        "\n",
        "    # 2. Sublattice Bond Ionicity (SBI)\n",
        "    ionicity_sum = 0\n",
        "    for li in li_sites:\n",
        "        neighbors = cnn.get_nn_info(structure, structure.index(li))\n",
        "        for neighbor in neighbors:\n",
        "            delta_X = abs(Element(\"Li\").X - Element(neighbor[\"site\"].species_string).X)\n",
        "            ionicity_sum += delta_X\n",
        "    results[\"SBI\"] = ionicity_sum / len(structure) if len(structure) > 0 else 0\n",
        "\n",
        "    # 3. Anion Framework Coordination (AFC)\n",
        "    anions = [site for site in structure]\n",
        "    total_coord = sum(len(cnn.get_nn_info(structure, structure.index(anion))) for anion in anions)\n",
        "    results[\"AFC\"] = total_coord / len(anions) if anions else 0\n",
        "\n",
        "    # 4. Li-Anion Separation Distance (LASD)\n",
        "    anion_sites = [site for site in structure]\n",
        "    if li_sites and anion_sites:\n",
        "        distances = [li.distance(anion) for li in li_sites for anion in anion_sites]\n",
        "        results[\"LASD\"] = np.mean(distances)\n",
        "    else:\n",
        "        results[\"LASD\"] = 0\n",
        "\n",
        "    # 5. Li-Li Separation Distance (LLSD)\n",
        "    if len(li_sites) >= 2:\n",
        "        distances = []\n",
        "        for i in range(len(li_sites)):\n",
        "            for j in range(i+1, len(li_sites)):\n",
        "                distances.append(li_sites[i].distance(li_sites[j]))\n",
        "        results[\"LLSD\"] = np.mean(distances)\n",
        "    else:\n",
        "        results[\"LLSD\"] = 0\n",
        "\n",
        "    return results"
      ],
      "metadata": {
        "id": "VTJB19-fBEke"
      },
      "execution_count": null,
      "outputs": []
    },
    {
      "cell_type": "markdown",
      "source": [
        "# Create training set"
      ],
      "metadata": {
        "id": "xGNwO2oPNF6_"
      }
    },
    {
      "cell_type": "markdown",
      "source": [
        "Training data is based off of Li-based compounds in the MPD with DFT-verified ionic conductivity values according to ables 1 and 2 in the paper \"Machine Learning-Assisted Discovery of Solid Li-Ion Conducting Materials\" by Sendek et. al.\n",
        "\n",
        "Link: https://pubs.acs.org/doi/10.1021/acs.chemmater.8b03272"
      ],
      "metadata": {
        "id": "FC4mGReFNNo1"
      }
    },
    {
      "cell_type": "code",
      "source": [
        "# MPID values manually extracted from tables 1 and 2\n",
        "mpid_list = [\n",
        "    # random (table 2)\n",
        "    \"mp-6674\", \"mp-8609\", \"mp-28567\", \"mp-12160\",\n",
        "    \"mp-6787\", \"mp-560072\", \"mp-7941\", \"mp-13772\",\n",
        "    \"mp-8452\", \"mp-770932\", \"mp-12829\", \"mp-27811\",\n",
        "    \"mp-8180\", \"mp-7971\", \"mp-8449\", \"mp-558045\", \"mp-562394\",\n",
        "    \"mp-510073\", \"mp-7744\", \"mp-989562\", \"mp-8892\",\n",
        "    # machine learning guided (table 1)\n",
        "    \"mp-554076\", \"mp-532413\", \"mp-558219\",\n",
        "    \"mp-29410\", \"mp-676361\", \"mp-643069\", \"mp-34477\",\n",
        "    \"mp-676109\", \"mp-559238\", \"mp-866665\", \"mp-8751\", \"mp-15789\",\n",
        "    \"mp-15790\", \"mp-15791\", \"mp-561095\", \"mp-8430\", \"mp-22905\"\n",
        "]"
      ],
      "metadata": {
        "id": "_wBkFAY1NMUa"
      },
      "execution_count": null,
      "outputs": []
    },
    {
      "cell_type": "markdown",
      "source": [
        "I did not query these values. I manually copied and pasted values from the full excel spreadsheet. So we can either add the code in to extract based on MPID or just upload the excel spreadsheets as is (which I understand might be feel incomplete to do)"
      ],
      "metadata": {
        "id": "BwQDD0U-PQ5a"
      }
    },
    {
      "cell_type": "markdown",
      "source": [
        "# Retrieve parameters of all Li-based compounds from the Materials Project Database (MPD) for full analysis of potential new superionic materials"
      ],
      "metadata": {
        "id": "znBvEdiNFDFp"
      }
    },
    {
      "cell_type": "code",
      "source": [
        "'''\n",
        "Retrieve compound properties from the MPD to calculate 5 structural\n",
        "descriptors including:\n",
        "1. MPD ID\n",
        "2. Chemical formula\n",
        "3. Number of elements in compound\n",
        "4. Band gap in eV\n",
        "5. Thermodynamic stability in eV\n",
        "6. Gibbs free energy in eV\n",
        "'''\n",
        "\n",
        "# Query Materials Project database for all Li-based compounds\n",
        "with MPRester(API_KEY) as mpr:\n",
        "    query = mpr.materials.summary.search(\n",
        "        elements=[\"Li\"],\n",
        "        fields=[\"material_id\", \"structure\", \"nelements\", \"band_gap\",\n",
        "                \"energy_above_hull\", \"formation_energy_per_atom\"]\n",
        "    )"
      ],
      "metadata": {
        "id": "qBn36TFED2hB"
      },
      "execution_count": null,
      "outputs": []
    },
    {
      "cell_type": "code",
      "source": [
        "# Process all materials and compute descriptors\n",
        "data = []\n",
        "for doc in tqdm(query, total=len(query)):\n",
        "    try:\n",
        "        struct = doc.structure\n",
        "        descriptors = compute_descriptors(struct)\n",
        "        descriptors.update({\n",
        "            \"material_id\": doc.material_id,\n",
        "            \"formula\": struct.formula,\n",
        "            \"num_elements\": doc.nelements,\n",
        "            \"bandgap\": doc.band_gap,\n",
        "            \"energy_above_hull\": doc.energy_above_hull,\n",
        "            \"formation_energy_per_atom\": doc.formation_energy_per_atom\n",
        "        })\n",
        "        data.append(descriptors)\n",
        "    except Exception as e:\n",
        "        print(f\"Error processing {doc.material_id}: {str(e)}\")"
      ],
      "metadata": {
        "id": "o-EVdoZnD6T8"
      },
      "execution_count": null,
      "outputs": []
    },
    {
      "cell_type": "code",
      "source": [
        "# Create DataFrame and save to .csv file\n",
        "Li_materials_df = pd.DataFrame(data)\n",
        "#csv = df.to_csv(\"li_structural_descriptors.csv\", index=False)\n",
        "\n",
        "print(f\"Successfully processed {len(data)}/{len(query)} materials\")\n",
        "print(df.head())"
      ],
      "metadata": {
        "id": "iNKfXbejD8w9"
      },
      "execution_count": null,
      "outputs": []
    },
    {
      "cell_type": "markdown",
      "source": [
        "**Pre-filtering MPD Materials**"
      ],
      "metadata": {
        "id": "557pgdyFIU44"
      }
    },
    {
      "cell_type": "markdown",
      "source": [
        "Many of the 20,000+ Li-based materials in the Materials Project Database can be pre-filtered based on the following parameters:\n",
        "\n",
        "1. **Band gap**: Materials with a band gap lower than 1 eV can conduct electrons too easily and thus would not be effective ion conductors.\n",
        "2. **Energy above hull**: Materials need to be thermodynamically stable to operate as an effective ion conductor, so $E_{hull}$ should equal 0 eV.\n",
        "3. **Contains transition metals**: Previous studies have shown that Li-based materials without transition metals typically do not operate as effective ion conductors.\n",
        "\n",
        "This filtering process decreases the size of our dataset from 21,756 to 452 Li-based materials."
      ],
      "metadata": {
        "id": "GD9ghzuXIlKG"
      }
    },
    {
      "cell_type": "code",
      "source": [
        "# define list of transition metals\n",
        "transition_metals = [\n",
        "    \"Sc\", \"Ti\", \"V\", \"Cr\", \"Mn\", \"Fe\", \"Co\", \"Ni\", \"Cu\", \"Zn\",  # 3rd period\n",
        "    \"Y\", \"Zr\", \"Nb\", \"Mo\", \"Tc\", \"Ru\", \"Rh\", \"Pd\", \"Ag\", \"Cd\",  # 4th period\n",
        "    \"Hf\", \"Ta\", \"W\", \"Re\", \"Os\", \"Ir\", \"Pt\", \"Au\", \"Hg\",        # 5th period\n",
        "    \"Rf\", \"Db\", \"Sg\", \"Bh\", \"Hs\", \"Mt\", \"Ds\", \"Rg\", \"Cn\"        # 6th period\n",
        "]\n",
        "\n",
        "# filter dataframe of Li-based materials based on parameters listed above\n",
        "for material_index in range(len(Li_materials_df)):\n",
        "  if (Li_materials_df.bandgap[material_index] < 1) or \\\n",
        "     (not Li_materials_df.energy_above_hull[material_index] == 0) or \\\n",
        "     (not any(metal in Li_materials_df.formula[material_index] for metal in\n",
        "         transition_metals)):\n",
        "      Li_materials_df = Li_materials_df.drop(index=material_index)"
      ],
      "metadata": {
        "id": "jPyg43TiD-Ws"
      },
      "execution_count": null,
      "outputs": []
    },
    {
      "cell_type": "code",
      "source": [
        "# Export values to .csv file\n",
        "csv = Li_materials_df.to_csv(\"li_structural_descriptors_filtered.csv\", index=False)\n",
        "from google.colab import files\n",
        "files.download('li_structural_descriptors_filtered.csv')"
      ],
      "metadata": {
        "id": "Ng18b3O8LEpl"
      },
      "execution_count": null,
      "outputs": []
    }
  ]
}